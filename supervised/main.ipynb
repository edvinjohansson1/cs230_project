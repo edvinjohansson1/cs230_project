{
 "cells": [
  {
   "cell_type": "code",
   "execution_count": 1,
   "id": "a8ebcbe2",
   "metadata": {},
   "outputs": [
    {
     "name": "stdout",
     "output_type": "stream",
     "text": [
      "\n",
      "Parameters:\n",
      "\tdev_sample_percentage: 0.05\n",
      "\tdata_file: /home/ubuntu/cs230_project/data/amazon_reviews_us_Electronics_v1_00.tsv\n",
      "\tword2vec_file: /home/ubuntu/cs230_project/data/glove.6B.100d.txt\n",
      "\tmin_total_votes: 10\n",
      "\tmax_review_word_count: 200\n",
      "\tkeep_start_of_longer_reviews: True\n",
      "\tbatch_size: 64\n",
      "\tnum_epochs: 20\n",
      "\tdebug_mode: False\n"
     ]
    }
   ],
   "source": [
    "import numpy as np\n",
    "np.random.seed(0)\n",
    "\n",
    "from keras.models import Model\n",
    "from keras.layers import Input, Dense, Dropout, LSTM, Activation\n",
    "from keras.layers.embeddings import Embedding\n",
    "from keras.initializers import glorot_uniform\n",
    "\n",
    "from sklearn.model_selection import train_test_split\n",
    "import tensorflow as tf\n",
    "# Configure keras backend to run on CPU\n",
    "tf.config.set_visible_devices([], 'GPU')\n",
    "\n",
    "import argparse\n",
    "from datetime import datetime\n",
    "\n",
    "from utils import *\n",
    "from parameters import FLAGS\n",
    "from preprocessing import review_to_indices, embedding_layer_glove\n",
    "\n",
    "from models.uni_2_LSTM import Uni_2_LSTM\n",
    "from models.bi_2_LSTM import Bi_2_LSTM\n",
    "from models.cnn import CNN1"
   ]
  },
  {
   "cell_type": "code",
   "execution_count": 2,
   "id": "f98ab44c",
   "metadata": {},
   "outputs": [
    {
     "name": "stdout",
     "output_type": "stream",
     "text": [
      "\n",
      "Loading data ...\n",
      "Chunk loaded. Found 136128 data points with >= 10 total votes.\n"
     ]
    }
   ],
   "source": [
    "X, Y = load_data(FLAGS.data_file,\n",
    "                 FLAGS.min_total_votes,\n",
    "                 FLAGS.max_review_word_count,\n",
    "                 FLAGS.keep_start_of_longer_reviews)\n",
    "\n",
    "X_train, X_dev, Y_train, Y_dev = train_test_split(X, Y, test_size=FLAGS.dev_sample_percentage, random_state=42)"
   ]
  },
  {
   "cell_type": "code",
   "execution_count": 8,
   "id": "916d4d9b",
   "metadata": {},
   "outputs": [
    {
     "name": "stdout",
     "output_type": "stream",
     "text": [
      "Examples in X_train: 129321\n",
      "Examples in X_dev:   6807\n"
     ]
    }
   ],
   "source": [
    "print(f'Examples in X_train: {X_train.shape[0]}')\n",
    "print(f'Examples in X_dev:   {X_dev.shape[0]}')"
   ]
  },
  {
   "cell_type": "code",
   "execution_count": 9,
   "id": "c0576b67",
   "metadata": {
    "collapsed": true
   },
   "outputs": [
    {
     "name": "stdout",
     "output_type": "stream",
     "text": [
      "I have several VHS movies that are not available on DVD, and I have been trying to backup my collection to DVD before VHS becomes obsolete. DVRs simply won't record Macrovision or copy-protected recordings, but the Grex Video Stabilizer solved the problem perfectly. I followed the guidelines on the Grex website ( xdimax.com/grex/grex.html ), and it performed exactly as advertised. The quality of the copy was just as good as the original. I highly recommend Grex as the solution for anyone trying to rescue a VHS collection. \n",
      " 1.0\n",
      "\n",
      "\n",
      "\n",
      "I purchased the Crosley LP-to-CD from Brookstone and after I got it home I was astonished to discover how cheap a product costing several hundred dollars could be.  The turntable is awful.  If you bought a turntable for $25 you would expect it to be better than this.  The tone arm is not properly balanced and worst of all the speed is not consistent and is not adjustbale.  This product is virtually worthless for converting LP's to CD's if you have any senstivity to sound quality.  Stay away from this! \n",
      " 0.9757085020242915\n",
      "\n",
      "\n",
      "\n",
      "I thought it would fit in my cell phone jack since it is compatible with my phone. You have to buy an adapter. \n",
      " 0.041666666666666664\n",
      "\n",
      "\n",
      "\n",
      "################################################## \n",
      "\n",
      "\n",
      "I returned these because they were advertised as &#34;Noise Cancelling&#34;,,and they were NOT. \n",
      " 0.3\n",
      "\n",
      "\n",
      "\n",
      "At first I was delighted with this unit's easy set-up, smart appearance, intelligent design and functionality, and high-quality sound. However, I soon discovered that it won't perform the main function for which I bought it: converting old personal analog cassette recordings into digital format(s).      To be fair, the unit does in fact \\\\\"rip\\\\\" (convert) a cassette recording and saves it as a digital file on the SD memory card.  But the resulting recording is formatted as a proprietary \\\\\".SA1\\\\\" type file, which apparently is .AAC plus a layer of Panasonic's DRM security.  The main problem is that .SA1 files are NOT recognized by typical audio software (iTunes, MediaPlayer, etc.), and a web search for conversion utilities turned up nothing.  Panasonic includes their own \\\\\"Jukebox\\\\\" software, which doesn't help.  This set-up works well if all one wants is to transfer audio files to and from the included tiny, stylish and cool Panasonic SD-SV90 player (noting the lack of ID3 tagging).  But the inability to move audio files from the SD card to one's PC, and convert them to .aac or .mp3 formats for easy playback on other media (i.e. CDs, iPods \n",
      " 1.0\n",
      "\n",
      "\n",
      "\n",
      "I bought a protection plan for a juicer that I order about a week ago. I received a conformation email with the instruction how the p,an works. They also have very good customer that gave me a call to make sure that I received thecomformation email and if I had any questions about the plan. \n",
      " 0.5454545454545454\n",
      "\n",
      "\n",
      "\n"
     ]
    }
   ],
   "source": [
    "for idx in range(3):\n",
    "    print(X_train[idx], '\\n', Y_train[idx])\n",
    "    print('\\n\\n')\n",
    "\n",
    "print('#'*50, '\\n\\n')\n",
    "\n",
    "for idx in range(3):\n",
    "    print(X_dev[idx], '\\n', Y_dev[idx])\n",
    "    print('\\n\\n')"
   ]
  },
  {
   "cell_type": "code",
   "execution_count": 3,
   "id": "6d252d41",
   "metadata": {},
   "outputs": [
    {
     "name": "stdout",
     "output_type": "stream",
     "text": [
      "\n",
      "Creating word embeddings matrix ...\n",
      "Done\n"
     ]
    }
   ],
   "source": [
    "word_to_index, index_to_word, word_to_vec_map = read_glove_vecs(FLAGS.word2vec_file)"
   ]
  },
  {
   "cell_type": "code",
   "execution_count": 10,
   "id": "4828ebbb",
   "metadata": {
    "collapsed": true
   },
   "outputs": [
    {
     "name": "stdout",
     "output_type": "stream",
     "text": [
      "X1 = ['funny lol' 'lets play baseball' 'food is ready for you']\n",
      "X1_indices =\n",
      " [[155345. 225122.      0.      0.      0.]\n",
      " [220930. 286375.  69714.      0.      0.]\n",
      " [151204. 192973. 302254. 151349. 394475.]]\n"
     ]
    }
   ],
   "source": [
    "X1 = np.array([\"funny lol\", \"lets play baseball\", \"food is ready for you\"])\n",
    "X1_indices = review_to_indices(X1, word_to_index, max_review_word_count=5)\n",
    "print(\"X1 =\", X1)\n",
    "print(\"X1_indices =\\n\", X1_indices)"
   ]
  },
  {
   "cell_type": "code",
   "execution_count": 4,
   "id": "49304054",
   "metadata": {
    "collapsed": true
   },
   "outputs": [
    {
     "name": "stdout",
     "output_type": "stream",
     "text": [
      "Model: \"bi_2_LSTM\"\n",
      "_________________________________________________________________\n",
      "Layer (type)                 Output Shape              Param #   \n",
      "=================================================================\n",
      "input_1 (InputLayer)         [(None, 200)]             0         \n",
      "_________________________________________________________________\n",
      "embedding (Embedding)        (None, 200, 100)          40000100  \n",
      "_________________________________________________________________\n",
      "bidirectional (Bidirectional (None, 200, 64)           34048     \n",
      "_________________________________________________________________\n",
      "dropout (Dropout)            (None, 200, 64)           0         \n",
      "_________________________________________________________________\n",
      "bidirectional_1 (Bidirection (None, 128)               66048     \n",
      "_________________________________________________________________\n",
      "dropout_1 (Dropout)          (None, 128)               0         \n",
      "_________________________________________________________________\n",
      "dense (Dense)                (None, 1)                 129       \n",
      "=================================================================\n",
      "Total params: 40,100,325\n",
      "Trainable params: 100,225\n",
      "Non-trainable params: 40,000,100\n",
      "_________________________________________________________________\n"
     ]
    }
   ],
   "source": [
    "model_biLSTM = Bi_2_LSTM((FLAGS.max_review_word_count, ),\n",
    "                         word_to_vec_map,\n",
    "                         word_to_index,\n",
    "                         lstm_units=[32, 64])\n",
    "model_biLSTM.summary()"
   ]
  },
  {
   "cell_type": "code",
   "execution_count": 5,
   "id": "76378ee8",
   "metadata": {
    "collapsed": true
   },
   "outputs": [
    {
     "name": "stdout",
     "output_type": "stream",
     "text": [
      "Z1.shape (None, 198, 98, 8)\n",
      "A1.shape (None, 198, 98, 8)\n",
      "P1.shape (None, 99, 33, 8) \n",
      "\n",
      "Z2.shape (None, 97, 31, 16)\n",
      "A2.shape (None, 97, 31, 16)\n",
      "P2.shape (None, 49, 11, 16) \n",
      "\n",
      "Z3.shape (None, 45, 7, 32)\n",
      "A3.shape (None, 45, 7, 32)\n",
      "P3.shape (None, 23, 3, 32) \n",
      "\n",
      "F.shape (None, 2208)\n",
      "out.shape (None, 1)\n",
      "Model: \"CNN1\"\n",
      "_________________________________________________________________\n",
      "Layer (type)                 Output Shape              Param #   \n",
      "=================================================================\n",
      "input_2 (InputLayer)         [(None, 200)]             0         \n",
      "_________________________________________________________________\n",
      "embedding_1 (Embedding)      (None, 200, 100)          40000100  \n",
      "_________________________________________________________________\n",
      "reshape (Reshape)            (None, 200, 100, 1)       0         \n",
      "_________________________________________________________________\n",
      "conv2d (Conv2D)              (None, 198, 98, 8)        80        \n",
      "_________________________________________________________________\n",
      "re_lu (ReLU)                 (None, 198, 98, 8)        0         \n",
      "_________________________________________________________________\n",
      "max_pooling2d (MaxPooling2D) (None, 99, 33, 8)         0         \n",
      "_________________________________________________________________\n",
      "conv2d_1 (Conv2D)            (None, 97, 31, 16)        1168      \n",
      "_________________________________________________________________\n",
      "re_lu_1 (ReLU)               (None, 97, 31, 16)        0         \n",
      "_________________________________________________________________\n",
      "max_pooling2d_1 (MaxPooling2 (None, 49, 11, 16)        0         \n",
      "_________________________________________________________________\n",
      "conv2d_2 (Conv2D)            (None, 45, 7, 32)         12832     \n",
      "_________________________________________________________________\n",
      "re_lu_2 (ReLU)               (None, 45, 7, 32)         0         \n",
      "_________________________________________________________________\n",
      "max_pooling2d_2 (MaxPooling2 (None, 23, 3, 32)         0         \n",
      "_________________________________________________________________\n",
      "flatten (Flatten)            (None, 2208)              0         \n",
      "_________________________________________________________________\n",
      "dense_1 (Dense)              (None, 1)                 2209      \n",
      "=================================================================\n",
      "Total params: 40,016,389\n",
      "Trainable params: 16,289\n",
      "Non-trainable params: 40,000,100\n",
      "_________________________________________________________________\n"
     ]
    }
   ],
   "source": [
    "model_cnn1 = CNN1((FLAGS.max_review_word_count, ),\n",
    "                  word_to_vec_map,\n",
    "                  word_to_index,\n",
    "                  FLAGS)\n",
    "model_cnn1.summary()"
   ]
  },
  {
   "cell_type": "code",
   "execution_count": 12,
   "id": "04f433d5",
   "metadata": {
    "scrolled": true
   },
   "outputs": [
    {
     "data": {
      "image/png": "[encoded data removed]",
      "text/plain": [
       "<Figure size 432x288 with 1 Axes>"
      ]
     },
     "metadata": {
      "needs_background": "light"
     },
     "output_type": "display_data"
    },
    {
     "data": {
      "image/png": "[encoded data removed]",
      "text/plain": [
       "<Figure size 432x288 with 1 Axes>"
      ]
     },
     "metadata": {
      "needs_background": "light"
     },
     "output_type": "display_data"
    }
   ],
   "source": [
    "import matplotlib.pyplot as plt\n",
    "plt.hist([len(X_train[i].split(' ')) for i in range(X_train.shape[0])], bins=40)\n",
    "plt.xlim([0, 200])\n",
    "plt.show()\n",
    "\n",
    "plt.hist(Y_train, bins=100)\n",
    "plt.xlim([0, 1])\n",
    "plt.show()"
   ]
  },
  {
   "cell_type": "code",
   "execution_count": null,
   "id": "c0dc6b88",
   "metadata": {},
   "outputs": [],
   "source": [
    "np.var(Y_train)"
   ]
  },
  {
   "cell_type": "code",
   "execution_count": 6,
   "id": "52ac2f24",
   "metadata": {},
   "outputs": [],
   "source": [
    "model_biLSTM.compile(loss='mean_squared_error', optimizer='adam', metrics=['mse'])\n",
    "model_cnn1.compile(loss='mean_squared_error', optimizer='adam', metrics=['mse'])"
   ]
  },
  {
   "cell_type": "code",
   "execution_count": null,
   "id": "b9992f61",
   "metadata": {
    "scrolled": true
   },
   "outputs": [
    {
     "name": "stdout",
     "output_type": "stream",
     "text": [
      "Epoch 1/20\n",
      "2021/2021 [==============================] - 568s 281ms/step - loss: 0.0640 - mse: 0.0640 - val_loss: 0.0640 - val_mse: 0.0640\n",
      "Epoch 2/20\n",
      "2006/2021 [============================>.] - ETA: 4s - loss: 0.0618 - mse: 0.0618"
     ]
    },
    {
     "name": "stderr",
     "output_type": "stream",
     "text": [
      "IOPub message rate exceeded.\n",
      "The notebook server will temporarily stop sending output\n",
      "to the client in order to avoid crashing it.\n",
      "To change this limit, set the config variable\n",
      "`--NotebookApp.iopub_msg_rate_limit`.\n",
      "\n",
      "Current values:\n",
      "NotebookApp.iopub_msg_rate_limit=1000.0 (msgs/sec)\n",
      "NotebookApp.rate_limit_window=3.0 (secs)\n",
      "\n"
     ]
    },
    {
     "name": "stdout",
     "output_type": "stream",
     "text": [
      "2021/2021 [==============================] - 569s 282ms/step - loss: 0.0606 - mse: 0.0606 - val_loss: 0.0617 - val_mse: 0.0617\n",
      "Epoch 4/20\n",
      "2021/2021 [==============================] - 568s 281ms/step - loss: 0.0597 - mse: 0.0597 - val_loss: 0.0620 - val_mse: 0.0620\n",
      "Epoch 5/20\n",
      "2021/2021 [==============================] - 566s 280ms/step - loss: 0.0591 - mse: 0.0591 - val_loss: 0.0617 - val_mse: 0.0617\n",
      "Epoch 6/20\n",
      "2021/2021 [==============================] - 566s 280ms/step - loss: 0.0585 - mse: 0.0585 - val_loss: 0.0617 - val_mse: 0.0617\n",
      "Epoch 7/20\n",
      "2021/2021 [==============================] - 569s 282ms/step - loss: 0.0581 - mse: 0.0581 - val_loss: 0.0610 - val_mse: 0.0610\n",
      "Epoch 8/20\n",
      "1156/2021 [================>.............] - ETA: 3:58 - loss: 0.0578 - mse: 0.0578"
     ]
    }
   ],
   "source": [
    "X_train_indices = review_to_indices(X_train, word_to_index, FLAGS.max_review_word_count)\n",
    "X_dev_indices   = review_to_indices(X_dev,   word_to_index, FLAGS.max_review_word_count)\n",
    "\n",
    "model_cnn1.fit(X_train_indices, Y_train, epochs=FLAGS.num_epochs, batch_size=FLAGS.batch_size, shuffle=True,\n",
    "               validation_data=(X_dev_indices, Y_dev))"
   ]
  },
  {
   "cell_type": "code",
   "execution_count": null,
   "id": "bbc6f52b",
   "metadata": {},
   "outputs": [],
   "source": [
    "date = 'd'+'_'.join(datetime.now().__str__()[0:10].split('-'))\n",
    "time = 'h'+'_'.join(datetime.now().__str__()[11:19].split(':'))\n",
    "datetime = date+time\n",
    "model_cnn1.save('trained_models/model_cnn1'+datetime+'.h5')"
   ]
  }
 ],
 "metadata": {
  "kernelspec": {
   "display_name": "Python 3",
   "language": "python",
   "name": "python3"
  },
  "language_info": {
   "codemirror_mode": {
    "name": "ipython",
    "version": 3
   },
   "file_extension": ".py",
   "mimetype": "text/x-python",
   "name": "python",
   "nbconvert_exporter": "python",
   "pygments_lexer": "ipython3",
   "version": "3.6.9"
  }
 },
 "nbformat": 4,
 "nbformat_minor": 5
}
